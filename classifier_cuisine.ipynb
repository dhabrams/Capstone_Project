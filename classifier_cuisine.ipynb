{
 "cells": [
  {
   "cell_type": "code",
   "execution_count": 1,
   "metadata": {
    "collapsed": true,
    "deletable": true,
    "editable": true
   },
   "outputs": [],
   "source": [
    "import numpy as np\n",
    "import matplotlib.pyplot as plt\n",
    "import csv\n",
    "import json\n",
    "from numpy.linalg import svd, norm, pinv\n",
    "import scipy.sparse.linalg as sp\n",
    "from sklearn.decomposition import NMF\n",
    "from sklearn.cluster import KMeans\n",
    "import codecs\n",
    "import pickle\n",
    "from wordcloud import WordCloud\n",
    "from PIL import Image\n",
    "%matplotlib inline"
   ]
  },
  {
   "cell_type": "code",
   "execution_count": 2,
   "metadata": {
    "collapsed": false,
    "deletable": true,
    "editable": true
   },
   "outputs": [
    {
     "name": "stdout",
     "output_type": "stream",
     "text": [
      "total recipies in dataList: 39774\n",
      "done\n",
      "there are 20 cuisines \n",
      "[u'brazilian', u'british', u'cajun_creole', u'chinese', u'filipino', u'french', u'greek', u'indian', u'irish', u'italian', u'jamaican', u'japanese', u'korean', u'mexican', u'moroccan', u'russian', u'southern_us', u'spanish', u'thai', u'vietnamese']\n",
      "there are 6714 ingredients in unique ingListRaw\n",
      "done\n"
     ]
    }
   ],
   "source": [
    "# load data\n",
    "with open('train.json') as data_file:    \n",
    "    dataList = json.load(data_file)\n",
    "\n",
    "# create list (with duplicates) of ingredients and list of lists in form [recipe ID, cuisine type]\n",
    "nrec = len(dataList)\n",
    "print \"total recipies in dataList: %d\" % (nrec)\n",
    "cuisList = []\n",
    "ingListRaw = []\n",
    "# nrow = 10\n",
    "for row in dataList: \n",
    "    cuisList.append([row['id'], row['cuisine']])\n",
    "    ingListRaw += row['ingredients']\n",
    "print 'done'\n",
    "\n",
    "#look at cuisines\n",
    "cuis_setList=[]\n",
    "cuisineDict = {}\n",
    "for cuis in cuisList:\n",
    "  cuis_setList.append(cuis[1])\n",
    "cuis_setList = sorted(list(set(cuis_setList)))\n",
    "print \"there are %d cuisines \" % (len(cuis_setList))\n",
    "print cuis_setList\n",
    "\n",
    "# remove duplicate copies of ingredients to get unique list of ingredients\n",
    "ingListRaw = list(set(ingListRaw))\n",
    "num_ing = len(ingListRaw)\n",
    "print \"there are %d ingredients in unique ingListRaw\" % (num_ing) #len(ingListRaw[0:]))\n",
    "\n",
    "print 'done'"
   ]
  },
  {
   "cell_type": "code",
   "execution_count": 3,
   "metadata": {
    "collapsed": false,
    "deletable": true,
    "editable": true
   },
   "outputs": [
    {
     "name": "stdout",
     "output_type": "stream",
     "text": [
      "39774\n",
      "11 45887\n"
     ]
    }
   ],
   "source": [
    "def create_dicts(dataList, ingListRaw, write = False):\n",
    "    # create cuisine Dictionary where key = recipe ID and value = cuisine type\n",
    "    cuisineDict = {}\n",
    "    for row in dataList:\n",
    "        cuisineDict[row['id']]= row['cuisine']\n",
    "    print len(cuisineDict)\n",
    "\n",
    "    if write:\n",
    "        file_out = open('cuisineDict.pck', 'wb')\n",
    "        pickle.dump(cuisineDict, file_out)\n",
    "        file_out.close()\n",
    "\n",
    "    #create ingredients dictionary where key = ingredient and value = column index\n",
    "    #and reverse dictionary where key = column index and value = ingredient\n",
    "    ingDict = {}\n",
    "    colToIngDict = {}\n",
    "    ct=0\n",
    "    for ing in ingListRaw:\n",
    "        if not ing in ingDict.keys():\n",
    "            ct += 1\n",
    "            ingDict[ing] = ct\n",
    "            colToIngDict[ct-1] = ing\n",
    "\n",
    "    if write:\n",
    "        file_out = open('ingDict.pck', 'wb')\n",
    "        pickle.dump(ingDict, file_out)\n",
    "        file_out.close()\n",
    "\n",
    "    # create id dictionary where key = recipe ID and value = row index\n",
    "    # and reverse dictionary where key = row index and value = recipe ID\n",
    "    idDict={}\n",
    "    rowToRecDict = {}\n",
    "    ct = 0\n",
    "    for row in dataList:\n",
    "        idDict[row['id']] = ct\n",
    "        rowToRecDict[ct] = row['id']\n",
    "        ct += 1\n",
    "\n",
    "    # check key value pairs\n",
    "    print idDict[45887], idDict.keys()[idDict.values().index(11)]  \n",
    "    \n",
    "    if write:\n",
    "        file_out = open('idDict.pck', 'wb')\n",
    "        pickle.dump(idDict, file_out)\n",
    "        file_out.close()\n",
    "        \n",
    "    return cuisineDict, ingDict, colToIngDict, idDict, rowToRecDict\n",
    "\n",
    "cuisineDict, ingDict, colToIngDict, idDict, rowToRecDict = create_dicts(dataList, ingListRaw, write = True)"
   ]
  },
  {
   "cell_type": "code",
   "execution_count": 4,
   "metadata": {
    "collapsed": false,
    "deletable": true,
    "editable": true
   },
   "outputs": [
    {
     "name": "stdout",
     "output_type": "stream",
     "text": [
      "done\n"
     ]
    }
   ],
   "source": [
    "# create master array: Araw[i, j] = 1 if ingredient j is in recipe i\n",
    "# note: first column of Araw is recipe ID (will be removed when running classification)\n",
    "nrow = nrec\n",
    "ncol = num_ing+1\n",
    "Araw = np.zeros((nrow,ncol))\n",
    "\n",
    "for row in dataList:\n",
    "    recipe_idx = idDict[row['id']]\n",
    "    Araw[recipe_idx,0]= row['id']\n",
    "    for ing in row['ingredients']:\n",
    "        ing_idx = ingDict[ing]\n",
    "        Araw[recipe_idx,ing_idx] = 1\n",
    "        \n",
    "print 'done'"
   ]
  },
  {
   "cell_type": "code",
   "execution_count": 5,
   "metadata": {
    "collapsed": false,
    "deletable": true,
    "editable": true
   },
   "outputs": [
    {
     "name": "stdout",
     "output_type": "stream",
     "text": [
      "(39774L, 6714L)\n",
      "(37882L, 2245L)\n",
      "[ -9.37836883e-18  -2.81351065e-18  -9.00323407e-18 ...,   1.14416100e-17\n",
      "   7.87782981e-18  -3.84513122e-18]\n",
      "[ 1.  1.  1. ...,  1.  1.  1.]\n"
     ]
    }
   ],
   "source": [
    "# Clean and normalize data\n",
    "def trim_rows(A1, rowToRecDict, min_ct_rec = 4, max_ct_rec = 10000):\n",
    "    recCtArr = np.sum(A1, axis = 1)\n",
    "    recCtArrSort = np.sort(recCtArr)\n",
    "\n",
    "    recIds = (recCtArr > min_ct_rec) & (recCtArr < max_ct_rec)\n",
    "\n",
    "    recList = []\n",
    "    for idx in sorted(rowToRecDict.keys()):\n",
    "        if recIds[idx] == 1:\n",
    "            recList.append(rowToRecDict[idx])  \n",
    "    A2 = A1[recIds, :]\n",
    "    return A2, recList\n",
    "\n",
    "def trim_cols(A1, colToIngDict, min_ct = 10, max_ct = 1000000):\n",
    "    ingCtArr = np.sum(A1, axis = 0)\n",
    "    ingCtArrSort = np.sort(ingCtArr)\n",
    "\n",
    "    min_ct = 10; max_ct = 1000000\n",
    "    ingIds = (ingCtArr > min_ct) & (ingCtArr < max_ct)\n",
    "\n",
    "    ingList = []\n",
    "    for idx in sorted(colToIngDict.keys()):\n",
    "        if ingIds[idx] == 1:\n",
    "            ingList.append(colToIngDict[idx])\n",
    "\n",
    "    A2 = A1[:, ingIds]\n",
    "    return A2, ingList\n",
    "\n",
    "def normalize(A):\n",
    "    return (A - np.mean(A, axis = 0))/np.std(A, axis = 0)\n",
    "\n",
    "A1 = Araw[:, 1:]\n",
    "A2, recList = trim_rows(A1, rowToRecDict) # remove recipes that have too few ingredients \n",
    "A3, ingList = trim_cols(A2, colToIngDict, max_ct = 200) # remove ingredients that appear in too few or too many recipes\n",
    "M = normalize(A3) # normalize by subtracting mean and dividing by standard deviation for each column\n",
    "\n",
    "print A1.shape\n",
    "print M.shape\n",
    "print np.mean(M, axis = 0)\n",
    "print np.std(M, axis = 0)"
   ]
  },
  {
   "cell_type": "code",
   "execution_count": 6,
   "metadata": {
    "collapsed": false,
    "deletable": true,
    "editable": true
   },
   "outputs": [
    {
     "name": "stdout",
     "output_type": "stream",
     "text": [
      "(37882L, 2245L)\n",
      "(2245L, 50L)\n",
      "(37882L, 50L)\n",
      "done\n"
     ]
    }
   ],
   "source": [
    "# Perform PCA dimensionality reduction, choose k = 50 components to keep\n",
    "# so we reduce dimensionality from 2245 ingredients to 50 principal components\n",
    "\n",
    "Uraw, Sraw, Vraw = sp.svds(M, k = 50)\n",
    "sArr = Sraw[::-1] # this svd routine returns the components in the reverse order\n",
    "V = Vraw[::-1, :] # this svd routine returns the components in the reverse order\n",
    "U = Uraw[:, ::-1] # this svd routine returns the components in the reverse order\n",
    "# plt.plot(sArr, '-')\n",
    "\n",
    "Mred = M.dot(V.T) # Mred stores the final, reduced dataset that we'll work with to classify recipes\n",
    "\n",
    "print M.shape\n",
    "print V.T.shape\n",
    "print Mred.shape\n",
    "print 'done'"
   ]
  },
  {
   "cell_type": "code",
   "execution_count": 7,
   "metadata": {
    "collapsed": false,
    "deletable": true,
    "editable": true
   },
   "outputs": [
    {
     "name": "stdout",
     "output_type": "stream",
     "text": [
      "{u'irish': 8, u'mexican': 13, u'chinese': 3, u'filipino': 4, u'vietnamese': 19, u'moroccan': 14, u'spanish': 17, u'japanese': 11, u'french': 5, u'greek': 6, u'indian': 7, u'cajun_creole': 2, u'british': 1, u'brazilian': 0, u'russian': 15, u'jamaican': 10, u'korean': 12, u'southern_us': 16, u'thai': 18, u'italian': 9}\n",
      "done\n"
     ]
    }
   ],
   "source": [
    "# build solution vector - array with cuisine idx for each recipe\n",
    "cuisIdDict = {}\n",
    "ct = 0\n",
    "for cuis in cuis_setList:\n",
    "    cuisIdDict[cuis] = ct\n",
    "    ct += 1\n",
    "\n",
    "print cuisIdDict\n",
    "y = np.zeros(len(recList), dtype = int)\n",
    "yArr = np.zeros((len(recList), len(cuisIdDict)))\n",
    "row_idx = 0\n",
    "for row_idx, rec_id in enumerate(recList):\n",
    "    cuis_idx = cuisIdDict[cuisineDict[rec_id]]\n",
    "    y[row_idx] = cuis_idx\n",
    "    yArr[row_idx, cuis_idx] = 1\n",
    "\n",
    "print 'done'"
   ]
  },
  {
   "cell_type": "code",
   "execution_count": 8,
   "metadata": {
    "collapsed": false,
    "deletable": true,
    "editable": true
   },
   "outputs": [
    {
     "name": "stdout",
     "output_type": "stream",
     "text": [
      "done\n"
     ]
    }
   ],
   "source": [
    "# this routine splits the full dataset into two parts: a training and a test set\n",
    "def get_train_test(H, y, split = 'half'):\n",
    "    if split == 'half':\n",
    "        row_cut = int(H.shape[0]*(1.0/2.0))\n",
    "    else:\n",
    "        row_cut = int(Mred.shape[0]*(4.0/5.0))\n",
    "        \n",
    "    Htrain = H[:row_cut]\n",
    "    Htest = H[row_cut:]\n",
    "    ytrain = y[:row_cut]\n",
    "    ytest = y[row_cut:]\n",
    "    return Htrain, ytrain, Htest, ytest\n",
    "\n",
    "Mtrain, ytrain, Mtest, ytest = get_train_test(Mred, y)\n",
    "print 'done'"
   ]
  },
  {
   "cell_type": "markdown",
   "metadata": {},
   "source": [
    "# SVM Classifier"
   ]
  },
  {
   "cell_type": "code",
   "execution_count": 9,
   "metadata": {
    "collapsed": false,
    "deletable": true,
    "editable": true
   },
   "outputs": [
    {
     "name": "stdout",
     "output_type": "stream",
     "text": [
      "time = 34.7\n",
      "done\n"
     ]
    }
   ],
   "source": [
    "from sklearn import svm\n",
    "import time\n",
    "\n",
    "t1 = time.time()\n",
    "clf = svm.SVC() # construct a support vector classifier object (since there are no keywords provided, the default option\n",
    "# of using radial basis function kernel is used)\n",
    "clf.fit(Mtrain, ytrain) # train the SVC on our data - recipes in Mtrain with labels in ytrain\n",
    "t2 = time.time()\n",
    "print 'time = %.1f' % (t2 - t1) # print out how much time this took\n",
    "print 'done'"
   ]
  },
  {
   "cell_type": "code",
   "execution_count": 10,
   "metadata": {
    "collapsed": false,
    "deletable": true,
    "editable": true
   },
   "outputs": [
    {
     "name": "stdout",
     "output_type": "stream",
     "text": [
      "training accuracy  = 86.75\n",
      "validation accuracy = 74.17\n"
     ]
    }
   ],
   "source": [
    "# num_test = 1000\n",
    "\n",
    "def get_error(Minraw, yinraw, num_test):\n",
    "    Min = Minraw[:num_test] # take only num_test recipes to test accuracy on\n",
    "    yin = yinraw[:num_test]\n",
    "    y = clf.predict(Min[:num_test]) # predicted labels for these input recipes\n",
    "    errArr = np.zeros(num_test) \n",
    "    errArr[y != yin[:num_test]] = 1 # construct an array errArr that has a 1 in all \n",
    "    # the indices in which the predicted labels don't match the ground truth (yin)\n",
    "    err_train = (np.sum(errArr)/num_test)*100.0 # compute the percent of recipes misclassified\n",
    "    return err_train\n",
    "\n",
    "err_train = get_error(Mtrain, ytrain, num_test = Mtrain.shape[0])\n",
    "err_test = get_error(Mtest, ytest, num_test = Mtest.shape[0])\n",
    "print 'training accuracy  = %.2f' % (100.0 - err_train)\n",
    "print 'validation accuracy = %.2f' % (100.0 - err_test)"
   ]
  },
  {
   "cell_type": "code",
   "execution_count": 11,
   "metadata": {
    "collapsed": false
   },
   "outputs": [
    {
     "data": {
      "text/plain": [
       "<matplotlib.text.Text at 0x1058a1d0>"
      ]
     },
     "execution_count": 11,
     "metadata": {},
     "output_type": "execute_result"
    },
    {
     "data": {
      "image/png": "[encoded data removed]",
      "text/plain": [
       "<matplotlib.figure.Figure at 0x9e5a978>"
      ]
     },
     "metadata": {},
     "output_type": "display_data"
    }
   ],
   "source": [
    "# plot a bargraph showing accuracy on training and test sets\n",
    "fig, ax = plt.subplots(1)\n",
    "\n",
    "objects = ('Training Set', 'Test Set')\n",
    "y_pos = np.arange(len(objects))\n",
    "performance = [100.0 - err_train, 100.0 - err_test]\n",
    "\n",
    "\n",
    "fs = 12\n",
    "ax.bar(y_pos, performance, align='center', alpha=0.5)\n",
    "ax.spines['top'].set_visible(False)\n",
    "ax.spines['right'].set_visible(False)\n",
    "plt.xticks(y_pos, objects, fontsize = fs)\n",
    "plt.yticks(np.arange(10, 100, 20), fontsize = fs)\n",
    "plt.ylabel('Classification Accuracy (%)', fontsize = fs)\n",
    "plt.title('Cuisine Classifier', fontsize = fs)"
   ]
  }
 ],
 "metadata": {
  "kernelspec": {
   "display_name": "Python 2",
   "language": "python",
   "name": "python2"
  },
  "language_info": {
   "codemirror_mode": {
    "name": "ipython",
    "version": 2
   },
   "file_extension": ".py",
   "mimetype": "text/x-python",
   "name": "python",
   "nbconvert_exporter": "python",
   "pygments_lexer": "ipython2",
   "version": "2.7.13"
  }
 },
 "nbformat": 4,
 "nbformat_minor": 2
}
